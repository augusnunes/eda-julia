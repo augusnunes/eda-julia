{
 "cells": [
  {
   "cell_type": "code",
   "execution_count": 1,
   "metadata": {},
   "outputs": [
    {
     "name": "stderr",
     "output_type": "stream",
     "text": [
      "┌ Info: Precompiling StatsPlots [f3b207a7-027a-5e70-b257-86293d7955fd]\n",
      "└ @ Base loading.jl:1260\n",
      "┌ Info: Precompiling Gadfly [c91e804a-d5a3-530f-b6f0-dfbca275c004]\n",
      "└ @ Base loading.jl:1260\n"
     ]
    }
   ],
   "source": [
    "using CSV, DataFrames \n",
    "using StatsBase, StatsPlots, Gadfly, Plots"
   ]
  },
  {
   "cell_type": "code",
   "execution_count": 2,
   "metadata": {},
   "outputs": [
    {
     "data": {
      "text/html": [
       "<table class=\"data-frame\"><thead><tr><th></th><th>Id</th><th>SepalLengthCm</th><th>SepalWidthCm</th><th>PetalLengthCm</th><th>PetalWidthCm</th><th>Species</th></tr><tr><th></th><th>Int64</th><th>Float64</th><th>Float64</th><th>Float64</th><th>Float64</th><th>String</th></tr></thead><tbody><p>150 rows × 6 columns</p><tr><th>1</th><td>1</td><td>5.1</td><td>3.5</td><td>1.4</td><td>0.2</td><td>Iris-setosa</td></tr><tr><th>2</th><td>2</td><td>4.9</td><td>3.0</td><td>1.4</td><td>0.2</td><td>Iris-setosa</td></tr><tr><th>3</th><td>3</td><td>4.7</td><td>3.2</td><td>1.3</td><td>0.2</td><td>Iris-setosa</td></tr><tr><th>4</th><td>4</td><td>4.6</td><td>3.1</td><td>1.5</td><td>0.2</td><td>Iris-setosa</td></tr><tr><th>5</th><td>5</td><td>5.0</td><td>3.6</td><td>1.4</td><td>0.2</td><td>Iris-setosa</td></tr><tr><th>6</th><td>6</td><td>5.4</td><td>3.9</td><td>1.7</td><td>0.4</td><td>Iris-setosa</td></tr><tr><th>7</th><td>7</td><td>4.6</td><td>3.4</td><td>1.4</td><td>0.3</td><td>Iris-setosa</td></tr><tr><th>8</th><td>8</td><td>5.0</td><td>3.4</td><td>1.5</td><td>0.2</td><td>Iris-setosa</td></tr><tr><th>9</th><td>9</td><td>4.4</td><td>2.9</td><td>1.4</td><td>0.2</td><td>Iris-setosa</td></tr><tr><th>10</th><td>10</td><td>4.9</td><td>3.1</td><td>1.5</td><td>0.1</td><td>Iris-setosa</td></tr><tr><th>11</th><td>11</td><td>5.4</td><td>3.7</td><td>1.5</td><td>0.2</td><td>Iris-setosa</td></tr><tr><th>12</th><td>12</td><td>4.8</td><td>3.4</td><td>1.6</td><td>0.2</td><td>Iris-setosa</td></tr><tr><th>13</th><td>13</td><td>4.8</td><td>3.0</td><td>1.4</td><td>0.1</td><td>Iris-setosa</td></tr><tr><th>14</th><td>14</td><td>4.3</td><td>3.0</td><td>1.1</td><td>0.1</td><td>Iris-setosa</td></tr><tr><th>15</th><td>15</td><td>5.8</td><td>4.0</td><td>1.2</td><td>0.2</td><td>Iris-setosa</td></tr><tr><th>16</th><td>16</td><td>5.7</td><td>4.4</td><td>1.5</td><td>0.4</td><td>Iris-setosa</td></tr><tr><th>17</th><td>17</td><td>5.4</td><td>3.9</td><td>1.3</td><td>0.4</td><td>Iris-setosa</td></tr><tr><th>18</th><td>18</td><td>5.1</td><td>3.5</td><td>1.4</td><td>0.3</td><td>Iris-setosa</td></tr><tr><th>19</th><td>19</td><td>5.7</td><td>3.8</td><td>1.7</td><td>0.3</td><td>Iris-setosa</td></tr><tr><th>20</th><td>20</td><td>5.1</td><td>3.8</td><td>1.5</td><td>0.3</td><td>Iris-setosa</td></tr><tr><th>21</th><td>21</td><td>5.4</td><td>3.4</td><td>1.7</td><td>0.2</td><td>Iris-setosa</td></tr><tr><th>22</th><td>22</td><td>5.1</td><td>3.7</td><td>1.5</td><td>0.4</td><td>Iris-setosa</td></tr><tr><th>23</th><td>23</td><td>4.6</td><td>3.6</td><td>1.0</td><td>0.2</td><td>Iris-setosa</td></tr><tr><th>24</th><td>24</td><td>5.1</td><td>3.3</td><td>1.7</td><td>0.5</td><td>Iris-setosa</td></tr><tr><th>25</th><td>25</td><td>4.8</td><td>3.4</td><td>1.9</td><td>0.2</td><td>Iris-setosa</td></tr><tr><th>26</th><td>26</td><td>5.0</td><td>3.0</td><td>1.6</td><td>0.2</td><td>Iris-setosa</td></tr><tr><th>27</th><td>27</td><td>5.0</td><td>3.4</td><td>1.6</td><td>0.4</td><td>Iris-setosa</td></tr><tr><th>28</th><td>28</td><td>5.2</td><td>3.5</td><td>1.5</td><td>0.2</td><td>Iris-setosa</td></tr><tr><th>29</th><td>29</td><td>5.2</td><td>3.4</td><td>1.4</td><td>0.2</td><td>Iris-setosa</td></tr><tr><th>30</th><td>30</td><td>4.7</td><td>3.2</td><td>1.6</td><td>0.2</td><td>Iris-setosa</td></tr><tr><th>&vellip;</th><td>&vellip;</td><td>&vellip;</td><td>&vellip;</td><td>&vellip;</td><td>&vellip;</td><td>&vellip;</td></tr></tbody></table>"
      ],
      "text/latex": [
       "\\begin{tabular}{r|cccccc}\n",
       "\t& Id & SepalLengthCm & SepalWidthCm & PetalLengthCm & PetalWidthCm & Species\\\\\n",
       "\t\\hline\n",
       "\t& Int64 & Float64 & Float64 & Float64 & Float64 & String\\\\\n",
       "\t\\hline\n",
       "\t1 & 1 & 5.1 & 3.5 & 1.4 & 0.2 & Iris-setosa \\\\\n",
       "\t2 & 2 & 4.9 & 3.0 & 1.4 & 0.2 & Iris-setosa \\\\\n",
       "\t3 & 3 & 4.7 & 3.2 & 1.3 & 0.2 & Iris-setosa \\\\\n",
       "\t4 & 4 & 4.6 & 3.1 & 1.5 & 0.2 & Iris-setosa \\\\\n",
       "\t5 & 5 & 5.0 & 3.6 & 1.4 & 0.2 & Iris-setosa \\\\\n",
       "\t6 & 6 & 5.4 & 3.9 & 1.7 & 0.4 & Iris-setosa \\\\\n",
       "\t7 & 7 & 4.6 & 3.4 & 1.4 & 0.3 & Iris-setosa \\\\\n",
       "\t8 & 8 & 5.0 & 3.4 & 1.5 & 0.2 & Iris-setosa \\\\\n",
       "\t9 & 9 & 4.4 & 2.9 & 1.4 & 0.2 & Iris-setosa \\\\\n",
       "\t10 & 10 & 4.9 & 3.1 & 1.5 & 0.1 & Iris-setosa \\\\\n",
       "\t11 & 11 & 5.4 & 3.7 & 1.5 & 0.2 & Iris-setosa \\\\\n",
       "\t12 & 12 & 4.8 & 3.4 & 1.6 & 0.2 & Iris-setosa \\\\\n",
       "\t13 & 13 & 4.8 & 3.0 & 1.4 & 0.1 & Iris-setosa \\\\\n",
       "\t14 & 14 & 4.3 & 3.0 & 1.1 & 0.1 & Iris-setosa \\\\\n",
       "\t15 & 15 & 5.8 & 4.0 & 1.2 & 0.2 & Iris-setosa \\\\\n",
       "\t16 & 16 & 5.7 & 4.4 & 1.5 & 0.4 & Iris-setosa \\\\\n",
       "\t17 & 17 & 5.4 & 3.9 & 1.3 & 0.4 & Iris-setosa \\\\\n",
       "\t18 & 18 & 5.1 & 3.5 & 1.4 & 0.3 & Iris-setosa \\\\\n",
       "\t19 & 19 & 5.7 & 3.8 & 1.7 & 0.3 & Iris-setosa \\\\\n",
       "\t20 & 20 & 5.1 & 3.8 & 1.5 & 0.3 & Iris-setosa \\\\\n",
       "\t21 & 21 & 5.4 & 3.4 & 1.7 & 0.2 & Iris-setosa \\\\\n",
       "\t22 & 22 & 5.1 & 3.7 & 1.5 & 0.4 & Iris-setosa \\\\\n",
       "\t23 & 23 & 4.6 & 3.6 & 1.0 & 0.2 & Iris-setosa \\\\\n",
       "\t24 & 24 & 5.1 & 3.3 & 1.7 & 0.5 & Iris-setosa \\\\\n",
       "\t25 & 25 & 4.8 & 3.4 & 1.9 & 0.2 & Iris-setosa \\\\\n",
       "\t26 & 26 & 5.0 & 3.0 & 1.6 & 0.2 & Iris-setosa \\\\\n",
       "\t27 & 27 & 5.0 & 3.4 & 1.6 & 0.4 & Iris-setosa \\\\\n",
       "\t28 & 28 & 5.2 & 3.5 & 1.5 & 0.2 & Iris-setosa \\\\\n",
       "\t29 & 29 & 5.2 & 3.4 & 1.4 & 0.2 & Iris-setosa \\\\\n",
       "\t30 & 30 & 4.7 & 3.2 & 1.6 & 0.2 & Iris-setosa \\\\\n",
       "\t$\\dots$ & $\\dots$ & $\\dots$ & $\\dots$ & $\\dots$ & $\\dots$ & $\\dots$ \\\\\n",
       "\\end{tabular}\n"
      ],
      "text/plain": [
       "\u001b[1m150×6 DataFrame\u001b[0m\n",
       "\u001b[1m Row \u001b[0m│\u001b[1m Id    \u001b[0m\u001b[1m SepalLengthCm \u001b[0m\u001b[1m SepalWidthCm \u001b[0m\u001b[1m PetalLengthCm \u001b[0m\u001b[1m PetalWidthCm \u001b[0m\u001b[1m Specie\u001b[0m ⋯\n",
       "\u001b[1m     \u001b[0m│\u001b[90m Int64 \u001b[0m\u001b[90m Float64       \u001b[0m\u001b[90m Float64      \u001b[0m\u001b[90m Float64       \u001b[0m\u001b[90m Float64      \u001b[0m\u001b[90m String\u001b[0m ⋯\n",
       "─────┼──────────────────────────────────────────────────────────────────────────\n",
       "   1 │     1            5.1           3.5            1.4           0.2  Iris-s ⋯\n",
       "   2 │     2            4.9           3.0            1.4           0.2  Iris-s\n",
       "   3 │     3            4.7           3.2            1.3           0.2  Iris-s\n",
       "   4 │     4            4.6           3.1            1.5           0.2  Iris-s\n",
       "   5 │     5            5.0           3.6            1.4           0.2  Iris-s ⋯\n",
       "   6 │     6            5.4           3.9            1.7           0.4  Iris-s\n",
       "   7 │     7            4.6           3.4            1.4           0.3  Iris-s\n",
       "   8 │     8            5.0           3.4            1.5           0.2  Iris-s\n",
       "   9 │     9            4.4           2.9            1.4           0.2  Iris-s ⋯\n",
       "  10 │    10            4.9           3.1            1.5           0.1  Iris-s\n",
       "  11 │    11            5.4           3.7            1.5           0.2  Iris-s\n",
       "  ⋮  │   ⋮          ⋮             ⋮              ⋮             ⋮               ⋱\n",
       " 141 │   141            6.7           3.1            5.6           2.4  Iris-v\n",
       " 142 │   142            6.9           3.1            5.1           2.3  Iris-v ⋯\n",
       " 143 │   143            5.8           2.7            5.1           1.9  Iris-v\n",
       " 144 │   144            6.8           3.2            5.9           2.3  Iris-v\n",
       " 145 │   145            6.7           3.3            5.7           2.5  Iris-v\n",
       " 146 │   146            6.7           3.0            5.2           2.3  Iris-v ⋯\n",
       " 147 │   147            6.3           2.5            5.0           1.9  Iris-v\n",
       " 148 │   148            6.5           3.0            5.2           2.0  Iris-v\n",
       " 149 │   149            6.2           3.4            5.4           2.3  Iris-v\n",
       " 150 │   150            5.9           3.0            5.1           1.8  Iris-v ⋯\n",
       "\u001b[36m                                                   1 column and 129 rows omitted\u001b[0m"
      ]
     },
     "execution_count": 2,
     "metadata": {},
     "output_type": "execute_result"
    }
   ],
   "source": [
    "df = CSV.read(\"iris.csv\", DataFrame) "
   ]
  },
  {
   "cell_type": "code",
   "execution_count": 3,
   "metadata": {},
   "outputs": [
    {
     "data": {
      "text/plain": [
       "\"150×6 DataFrame\""
      ]
     },
     "execution_count": 3,
     "metadata": {},
     "output_type": "execute_result"
    }
   ],
   "source": [
    "summary(df)"
   ]
  },
  {
   "cell_type": "code",
   "execution_count": 4,
   "metadata": {
    "scrolled": true
   },
   "outputs": [
    {
     "data": {
      "text/html": [
       "<table class=\"data-frame\"><thead><tr><th></th><th>variable</th><th>mean</th><th>min</th><th>median</th><th>max</th><th>nmissing</th><th>eltype</th></tr><tr><th></th><th>Symbol</th><th>Union…</th><th>Any</th><th>Union…</th><th>Any</th><th>Int64</th><th>DataType</th></tr></thead><tbody><p>6 rows × 7 columns</p><tr><th>1</th><td>Id</td><td>75.5</td><td>1</td><td>75.5</td><td>150</td><td>0</td><td>Int64</td></tr><tr><th>2</th><td>SepalLengthCm</td><td>5.84333</td><td>4.3</td><td>5.8</td><td>7.9</td><td>0</td><td>Float64</td></tr><tr><th>3</th><td>SepalWidthCm</td><td>3.054</td><td>2.0</td><td>3.0</td><td>4.4</td><td>0</td><td>Float64</td></tr><tr><th>4</th><td>PetalLengthCm</td><td>3.75867</td><td>1.0</td><td>4.35</td><td>6.9</td><td>0</td><td>Float64</td></tr><tr><th>5</th><td>PetalWidthCm</td><td>1.19867</td><td>0.1</td><td>1.3</td><td>2.5</td><td>0</td><td>Float64</td></tr><tr><th>6</th><td>Species</td><td></td><td>Iris-setosa</td><td></td><td>Iris-virginica</td><td>0</td><td>String</td></tr></tbody></table>"
      ],
      "text/latex": [
       "\\begin{tabular}{r|ccccccc}\n",
       "\t& variable & mean & min & median & max & nmissing & eltype\\\\\n",
       "\t\\hline\n",
       "\t& Symbol & Union… & Any & Union… & Any & Int64 & DataType\\\\\n",
       "\t\\hline\n",
       "\t1 & Id & 75.5 & 1 & 75.5 & 150 & 0 & Int64 \\\\\n",
       "\t2 & SepalLengthCm & 5.84333 & 4.3 & 5.8 & 7.9 & 0 & Float64 \\\\\n",
       "\t3 & SepalWidthCm & 3.054 & 2.0 & 3.0 & 4.4 & 0 & Float64 \\\\\n",
       "\t4 & PetalLengthCm & 3.75867 & 1.0 & 4.35 & 6.9 & 0 & Float64 \\\\\n",
       "\t5 & PetalWidthCm & 1.19867 & 0.1 & 1.3 & 2.5 & 0 & Float64 \\\\\n",
       "\t6 & Species &  & Iris-setosa &  & Iris-virginica & 0 & String \\\\\n",
       "\\end{tabular}\n"
      ],
      "text/plain": [
       "\u001b[1m6×7 DataFrame\u001b[0m\n",
       "\u001b[1m Row \u001b[0m│\u001b[1m variable      \u001b[0m\u001b[1m mean    \u001b[0m\u001b[1m min         \u001b[0m\u001b[1m median \u001b[0m\u001b[1m max            \u001b[0m\u001b[1m nmissing \u001b[0m\u001b[1m \u001b[0m ⋯\n",
       "\u001b[1m     \u001b[0m│\u001b[90m Symbol        \u001b[0m\u001b[90m Union…  \u001b[0m\u001b[90m Any         \u001b[0m\u001b[90m Union… \u001b[0m\u001b[90m Any            \u001b[0m\u001b[90m Int64    \u001b[0m\u001b[90m \u001b[0m ⋯\n",
       "─────┼──────────────────────────────────────────────────────────────────────────\n",
       "   1 │ Id             75.5     1            75.5    150                    0   ⋯\n",
       "   2 │ SepalLengthCm  5.84333  4.3          5.8     7.9                    0\n",
       "   3 │ SepalWidthCm   3.054    2.0          3.0     4.4                    0\n",
       "   4 │ PetalLengthCm  3.75867  1.0          4.35    6.9                    0\n",
       "   5 │ PetalWidthCm   1.19867  0.1          1.3     2.5                    0   ⋯\n",
       "   6 │ Species       \u001b[90m         \u001b[0m Iris-setosa \u001b[90m        \u001b[0m Iris-virginica         0\n",
       "\u001b[36m                                                                1 column omitted\u001b[0m"
      ]
     },
     "execution_count": 4,
     "metadata": {},
     "output_type": "execute_result"
    }
   ],
   "source": [
    "describe(df)"
   ]
  },
  {
   "cell_type": "code",
   "execution_count": 9,
   "metadata": {},
   "outputs": [
    {
     "data": {
      "text/html": [
       "<table class=\"data-frame\"><thead><tr><th></th><th>Id</th><th>Species</th></tr><tr><th></th><th>Int64</th><th>String</th></tr></thead><tbody><p>2 rows × 2 columns</p><tr><th>1</th><td>1</td><td>Iris-setosa</td></tr><tr><th>2</th><td>2</td><td>Iris-setosa</td></tr></tbody></table>"
      ],
      "text/latex": [
       "\\begin{tabular}{r|cc}\n",
       "\t& Id & Species\\\\\n",
       "\t\\hline\n",
       "\t& Int64 & String\\\\\n",
       "\t\\hline\n",
       "\t1 & 1 & Iris-setosa \\\\\n",
       "\t2 & 2 & Iris-setosa \\\\\n",
       "\\end{tabular}\n"
      ],
      "text/plain": [
       "\u001b[1m2×2 DataFrame\u001b[0m\n",
       "\u001b[1m Row \u001b[0m│\u001b[1m Id    \u001b[0m\u001b[1m Species     \u001b[0m\n",
       "\u001b[1m     \u001b[0m│\u001b[90m Int64 \u001b[0m\u001b[90m String      \u001b[0m\n",
       "─────┼────────────────────\n",
       "   1 │     1  Iris-setosa\n",
       "   2 │     2  Iris-setosa"
      ]
     },
     "execution_count": 9,
     "metadata": {},
     "output_type": "execute_result"
    }
   ],
   "source": [
    "# semelhante ao pandas\n",
    "df[[1,2], [:Id, :Species]]"
   ]
  },
  {
   "cell_type": "code",
   "execution_count": 13,
   "metadata": {
    "scrolled": true
   },
   "outputs": [
    {
     "data": {
      "text/html": [
       "<table class=\"data-frame\"><thead><tr><th></th><th>SepalLengthCm</th><th>SepalWidthCm</th><th>PetalLengthCm</th><th>PetalWidthCm</th></tr><tr><th></th><th>Float64</th><th>Float64</th><th>Float64</th><th>Float64</th></tr></thead><tbody><p>150 rows × 4 columns</p><tr><th>1</th><td>5.1</td><td>3.5</td><td>1.4</td><td>0.2</td></tr><tr><th>2</th><td>4.9</td><td>3.0</td><td>1.4</td><td>0.2</td></tr><tr><th>3</th><td>4.7</td><td>3.2</td><td>1.3</td><td>0.2</td></tr><tr><th>4</th><td>4.6</td><td>3.1</td><td>1.5</td><td>0.2</td></tr><tr><th>5</th><td>5.0</td><td>3.6</td><td>1.4</td><td>0.2</td></tr><tr><th>6</th><td>5.4</td><td>3.9</td><td>1.7</td><td>0.4</td></tr><tr><th>7</th><td>4.6</td><td>3.4</td><td>1.4</td><td>0.3</td></tr><tr><th>8</th><td>5.0</td><td>3.4</td><td>1.5</td><td>0.2</td></tr><tr><th>9</th><td>4.4</td><td>2.9</td><td>1.4</td><td>0.2</td></tr><tr><th>10</th><td>4.9</td><td>3.1</td><td>1.5</td><td>0.1</td></tr><tr><th>11</th><td>5.4</td><td>3.7</td><td>1.5</td><td>0.2</td></tr><tr><th>12</th><td>4.8</td><td>3.4</td><td>1.6</td><td>0.2</td></tr><tr><th>13</th><td>4.8</td><td>3.0</td><td>1.4</td><td>0.1</td></tr><tr><th>14</th><td>4.3</td><td>3.0</td><td>1.1</td><td>0.1</td></tr><tr><th>15</th><td>5.8</td><td>4.0</td><td>1.2</td><td>0.2</td></tr><tr><th>16</th><td>5.7</td><td>4.4</td><td>1.5</td><td>0.4</td></tr><tr><th>17</th><td>5.4</td><td>3.9</td><td>1.3</td><td>0.4</td></tr><tr><th>18</th><td>5.1</td><td>3.5</td><td>1.4</td><td>0.3</td></tr><tr><th>19</th><td>5.7</td><td>3.8</td><td>1.7</td><td>0.3</td></tr><tr><th>20</th><td>5.1</td><td>3.8</td><td>1.5</td><td>0.3</td></tr><tr><th>21</th><td>5.4</td><td>3.4</td><td>1.7</td><td>0.2</td></tr><tr><th>22</th><td>5.1</td><td>3.7</td><td>1.5</td><td>0.4</td></tr><tr><th>23</th><td>4.6</td><td>3.6</td><td>1.0</td><td>0.2</td></tr><tr><th>24</th><td>5.1</td><td>3.3</td><td>1.7</td><td>0.5</td></tr><tr><th>25</th><td>4.8</td><td>3.4</td><td>1.9</td><td>0.2</td></tr><tr><th>26</th><td>5.0</td><td>3.0</td><td>1.6</td><td>0.2</td></tr><tr><th>27</th><td>5.0</td><td>3.4</td><td>1.6</td><td>0.4</td></tr><tr><th>28</th><td>5.2</td><td>3.5</td><td>1.5</td><td>0.2</td></tr><tr><th>29</th><td>5.2</td><td>3.4</td><td>1.4</td><td>0.2</td></tr><tr><th>30</th><td>4.7</td><td>3.2</td><td>1.6</td><td>0.2</td></tr><tr><th>&vellip;</th><td>&vellip;</td><td>&vellip;</td><td>&vellip;</td><td>&vellip;</td></tr></tbody></table>"
      ],
      "text/latex": [
       "\\begin{tabular}{r|cccc}\n",
       "\t& SepalLengthCm & SepalWidthCm & PetalLengthCm & PetalWidthCm\\\\\n",
       "\t\\hline\n",
       "\t& Float64 & Float64 & Float64 & Float64\\\\\n",
       "\t\\hline\n",
       "\t1 & 5.1 & 3.5 & 1.4 & 0.2 \\\\\n",
       "\t2 & 4.9 & 3.0 & 1.4 & 0.2 \\\\\n",
       "\t3 & 4.7 & 3.2 & 1.3 & 0.2 \\\\\n",
       "\t4 & 4.6 & 3.1 & 1.5 & 0.2 \\\\\n",
       "\t5 & 5.0 & 3.6 & 1.4 & 0.2 \\\\\n",
       "\t6 & 5.4 & 3.9 & 1.7 & 0.4 \\\\\n",
       "\t7 & 4.6 & 3.4 & 1.4 & 0.3 \\\\\n",
       "\t8 & 5.0 & 3.4 & 1.5 & 0.2 \\\\\n",
       "\t9 & 4.4 & 2.9 & 1.4 & 0.2 \\\\\n",
       "\t10 & 4.9 & 3.1 & 1.5 & 0.1 \\\\\n",
       "\t11 & 5.4 & 3.7 & 1.5 & 0.2 \\\\\n",
       "\t12 & 4.8 & 3.4 & 1.6 & 0.2 \\\\\n",
       "\t13 & 4.8 & 3.0 & 1.4 & 0.1 \\\\\n",
       "\t14 & 4.3 & 3.0 & 1.1 & 0.1 \\\\\n",
       "\t15 & 5.8 & 4.0 & 1.2 & 0.2 \\\\\n",
       "\t16 & 5.7 & 4.4 & 1.5 & 0.4 \\\\\n",
       "\t17 & 5.4 & 3.9 & 1.3 & 0.4 \\\\\n",
       "\t18 & 5.1 & 3.5 & 1.4 & 0.3 \\\\\n",
       "\t19 & 5.7 & 3.8 & 1.7 & 0.3 \\\\\n",
       "\t20 & 5.1 & 3.8 & 1.5 & 0.3 \\\\\n",
       "\t21 & 5.4 & 3.4 & 1.7 & 0.2 \\\\\n",
       "\t22 & 5.1 & 3.7 & 1.5 & 0.4 \\\\\n",
       "\t23 & 4.6 & 3.6 & 1.0 & 0.2 \\\\\n",
       "\t24 & 5.1 & 3.3 & 1.7 & 0.5 \\\\\n",
       "\t25 & 4.8 & 3.4 & 1.9 & 0.2 \\\\\n",
       "\t26 & 5.0 & 3.0 & 1.6 & 0.2 \\\\\n",
       "\t27 & 5.0 & 3.4 & 1.6 & 0.4 \\\\\n",
       "\t28 & 5.2 & 3.5 & 1.5 & 0.2 \\\\\n",
       "\t29 & 5.2 & 3.4 & 1.4 & 0.2 \\\\\n",
       "\t30 & 4.7 & 3.2 & 1.6 & 0.2 \\\\\n",
       "\t$\\dots$ & $\\dots$ & $\\dots$ & $\\dots$ & $\\dots$ \\\\\n",
       "\\end{tabular}\n"
      ],
      "text/plain": [
       "\u001b[1m150×4 DataFrame\u001b[0m\n",
       "\u001b[1m Row \u001b[0m│\u001b[1m SepalLengthCm \u001b[0m\u001b[1m SepalWidthCm \u001b[0m\u001b[1m PetalLengthCm \u001b[0m\u001b[1m PetalWidthCm \u001b[0m\n",
       "\u001b[1m     \u001b[0m│\u001b[90m Float64       \u001b[0m\u001b[90m Float64      \u001b[0m\u001b[90m Float64       \u001b[0m\u001b[90m Float64      \u001b[0m\n",
       "─────┼──────────────────────────────────────────────────────────\n",
       "   1 │           5.1           3.5            1.4           0.2\n",
       "   2 │           4.9           3.0            1.4           0.2\n",
       "   3 │           4.7           3.2            1.3           0.2\n",
       "   4 │           4.6           3.1            1.5           0.2\n",
       "   5 │           5.0           3.6            1.4           0.2\n",
       "   6 │           5.4           3.9            1.7           0.4\n",
       "   7 │           4.6           3.4            1.4           0.3\n",
       "   8 │           5.0           3.4            1.5           0.2\n",
       "   9 │           4.4           2.9            1.4           0.2\n",
       "  10 │           4.9           3.1            1.5           0.1\n",
       "  11 │           5.4           3.7            1.5           0.2\n",
       "  ⋮  │       ⋮             ⋮              ⋮             ⋮\n",
       " 141 │           6.7           3.1            5.6           2.4\n",
       " 142 │           6.9           3.1            5.1           2.3\n",
       " 143 │           5.8           2.7            5.1           1.9\n",
       " 144 │           6.8           3.2            5.9           2.3\n",
       " 145 │           6.7           3.3            5.7           2.5\n",
       " 146 │           6.7           3.0            5.2           2.3\n",
       " 147 │           6.3           2.5            5.0           1.9\n",
       " 148 │           6.5           3.0            5.2           2.0\n",
       " 149 │           6.2           3.4            5.4           2.3\n",
       " 150 │           5.9           3.0            5.1           1.8\n",
       "\u001b[36m                                                129 rows omitted\u001b[0m"
      ]
     },
     "execution_count": 13,
     "metadata": {},
     "output_type": "execute_result"
    }
   ],
   "source": [
    "select(df, r\"Cm\")"
   ]
  },
  {
   "cell_type": "code",
   "execution_count": 16,
   "metadata": {
    "scrolled": true
   },
   "outputs": [
    {
     "data": {
      "text/html": [
       "<table class=\"data-frame\"><thead><tr><th></th><th>id</th><th>species</th></tr><tr><th></th><th>Int64</th><th>String</th></tr></thead><tbody><p>150 rows × 2 columns</p><tr><th>1</th><td>1</td><td>Iris-setosa</td></tr><tr><th>2</th><td>2</td><td>Iris-setosa</td></tr><tr><th>3</th><td>3</td><td>Iris-setosa</td></tr><tr><th>4</th><td>4</td><td>Iris-setosa</td></tr><tr><th>5</th><td>5</td><td>Iris-setosa</td></tr><tr><th>6</th><td>6</td><td>Iris-setosa</td></tr><tr><th>7</th><td>7</td><td>Iris-setosa</td></tr><tr><th>8</th><td>8</td><td>Iris-setosa</td></tr><tr><th>9</th><td>9</td><td>Iris-setosa</td></tr><tr><th>10</th><td>10</td><td>Iris-setosa</td></tr><tr><th>11</th><td>11</td><td>Iris-setosa</td></tr><tr><th>12</th><td>12</td><td>Iris-setosa</td></tr><tr><th>13</th><td>13</td><td>Iris-setosa</td></tr><tr><th>14</th><td>14</td><td>Iris-setosa</td></tr><tr><th>15</th><td>15</td><td>Iris-setosa</td></tr><tr><th>16</th><td>16</td><td>Iris-setosa</td></tr><tr><th>17</th><td>17</td><td>Iris-setosa</td></tr><tr><th>18</th><td>18</td><td>Iris-setosa</td></tr><tr><th>19</th><td>19</td><td>Iris-setosa</td></tr><tr><th>20</th><td>20</td><td>Iris-setosa</td></tr><tr><th>21</th><td>21</td><td>Iris-setosa</td></tr><tr><th>22</th><td>22</td><td>Iris-setosa</td></tr><tr><th>23</th><td>23</td><td>Iris-setosa</td></tr><tr><th>24</th><td>24</td><td>Iris-setosa</td></tr><tr><th>25</th><td>25</td><td>Iris-setosa</td></tr><tr><th>26</th><td>26</td><td>Iris-setosa</td></tr><tr><th>27</th><td>27</td><td>Iris-setosa</td></tr><tr><th>28</th><td>28</td><td>Iris-setosa</td></tr><tr><th>29</th><td>29</td><td>Iris-setosa</td></tr><tr><th>30</th><td>30</td><td>Iris-setosa</td></tr><tr><th>&vellip;</th><td>&vellip;</td><td>&vellip;</td></tr></tbody></table>"
      ],
      "text/latex": [
       "\\begin{tabular}{r|cc}\n",
       "\t& id & species\\\\\n",
       "\t\\hline\n",
       "\t& Int64 & String\\\\\n",
       "\t\\hline\n",
       "\t1 & 1 & Iris-setosa \\\\\n",
       "\t2 & 2 & Iris-setosa \\\\\n",
       "\t3 & 3 & Iris-setosa \\\\\n",
       "\t4 & 4 & Iris-setosa \\\\\n",
       "\t5 & 5 & Iris-setosa \\\\\n",
       "\t6 & 6 & Iris-setosa \\\\\n",
       "\t7 & 7 & Iris-setosa \\\\\n",
       "\t8 & 8 & Iris-setosa \\\\\n",
       "\t9 & 9 & Iris-setosa \\\\\n",
       "\t10 & 10 & Iris-setosa \\\\\n",
       "\t11 & 11 & Iris-setosa \\\\\n",
       "\t12 & 12 & Iris-setosa \\\\\n",
       "\t13 & 13 & Iris-setosa \\\\\n",
       "\t14 & 14 & Iris-setosa \\\\\n",
       "\t15 & 15 & Iris-setosa \\\\\n",
       "\t16 & 16 & Iris-setosa \\\\\n",
       "\t17 & 17 & Iris-setosa \\\\\n",
       "\t18 & 18 & Iris-setosa \\\\\n",
       "\t19 & 19 & Iris-setosa \\\\\n",
       "\t20 & 20 & Iris-setosa \\\\\n",
       "\t21 & 21 & Iris-setosa \\\\\n",
       "\t22 & 22 & Iris-setosa \\\\\n",
       "\t23 & 23 & Iris-setosa \\\\\n",
       "\t24 & 24 & Iris-setosa \\\\\n",
       "\t25 & 25 & Iris-setosa \\\\\n",
       "\t26 & 26 & Iris-setosa \\\\\n",
       "\t27 & 27 & Iris-setosa \\\\\n",
       "\t28 & 28 & Iris-setosa \\\\\n",
       "\t29 & 29 & Iris-setosa \\\\\n",
       "\t30 & 30 & Iris-setosa \\\\\n",
       "\t$\\dots$ & $\\dots$ & $\\dots$ \\\\\n",
       "\\end{tabular}\n"
      ],
      "text/plain": [
       "\u001b[1m150×2 DataFrame\u001b[0m\n",
       "\u001b[1m Row \u001b[0m│\u001b[1m id    \u001b[0m\u001b[1m species        \u001b[0m\n",
       "\u001b[1m     \u001b[0m│\u001b[90m Int64 \u001b[0m\u001b[90m String         \u001b[0m\n",
       "─────┼───────────────────────\n",
       "   1 │     1  Iris-setosa\n",
       "   2 │     2  Iris-setosa\n",
       "   3 │     3  Iris-setosa\n",
       "   4 │     4  Iris-setosa\n",
       "   5 │     5  Iris-setosa\n",
       "   6 │     6  Iris-setosa\n",
       "   7 │     7  Iris-setosa\n",
       "   8 │     8  Iris-setosa\n",
       "   9 │     9  Iris-setosa\n",
       "  10 │    10  Iris-setosa\n",
       "  11 │    11  Iris-setosa\n",
       "  ⋮  │   ⋮          ⋮\n",
       " 141 │   141  Iris-virginica\n",
       " 142 │   142  Iris-virginica\n",
       " 143 │   143  Iris-virginica\n",
       " 144 │   144  Iris-virginica\n",
       " 145 │   145  Iris-virginica\n",
       " 146 │   146  Iris-virginica\n",
       " 147 │   147  Iris-virginica\n",
       " 148 │   148  Iris-virginica\n",
       " 149 │   149  Iris-virginica\n",
       " 150 │   150  Iris-virginica\n",
       "\u001b[36m             129 rows omitted\u001b[0m"
      ]
     },
     "execution_count": 16,
     "metadata": {},
     "output_type": "execute_result"
    }
   ],
   "source": [
    "select(df, :Id => :id, :Species => :species)"
   ]
  },
  {
   "cell_type": "code",
   "execution_count": 20,
   "metadata": {},
   "outputs": [
    {
     "data": {
      "text/plain": [
       "150-element Array{Float64,1}:\n",
       " 26.009999999999998\n",
       " 24.010000000000005\n",
       " 22.090000000000003\n",
       " 21.159999999999997\n",
       " 25.0\n",
       " 29.160000000000004\n",
       " 21.159999999999997\n",
       " 25.0\n",
       " 19.360000000000003\n",
       " 24.010000000000005\n",
       " 29.160000000000004\n",
       " 23.04\n",
       " 23.04\n",
       "  ⋮\n",
       " 36.0\n",
       " 47.61000000000001\n",
       " 44.89\n",
       " 47.61000000000001\n",
       " 33.64\n",
       " 46.239999999999995\n",
       " 44.89\n",
       " 44.89\n",
       " 39.69\n",
       " 42.25\n",
       " 38.440000000000005\n",
       " 34.81"
      ]
     },
     "execution_count": 20,
     "metadata": {},
     "output_type": "execute_result"
    }
   ],
   "source": [
    "cont = select(df, r\"Cm\") \n",
    "cont[:, :x1] = cont[:, 1].^2 "
   ]
  },
  {
   "cell_type": "code",
   "execution_count": 21,
   "metadata": {},
   "outputs": [
    {
     "data": {
      "text/html": [
       "<table class=\"data-frame\"><thead><tr><th></th><th>SepalLengthCm</th><th>SepalWidthCm</th><th>PetalLengthCm</th><th>PetalWidthCm</th><th>x1</th></tr><tr><th></th><th>Float64</th><th>Float64</th><th>Float64</th><th>Float64</th><th>Float64</th></tr></thead><tbody><p>150 rows × 5 columns</p><tr><th>1</th><td>5.1</td><td>3.5</td><td>1.4</td><td>0.2</td><td>26.01</td></tr><tr><th>2</th><td>4.9</td><td>3.0</td><td>1.4</td><td>0.2</td><td>24.01</td></tr><tr><th>3</th><td>4.7</td><td>3.2</td><td>1.3</td><td>0.2</td><td>22.09</td></tr><tr><th>4</th><td>4.6</td><td>3.1</td><td>1.5</td><td>0.2</td><td>21.16</td></tr><tr><th>5</th><td>5.0</td><td>3.6</td><td>1.4</td><td>0.2</td><td>25.0</td></tr><tr><th>6</th><td>5.4</td><td>3.9</td><td>1.7</td><td>0.4</td><td>29.16</td></tr><tr><th>7</th><td>4.6</td><td>3.4</td><td>1.4</td><td>0.3</td><td>21.16</td></tr><tr><th>8</th><td>5.0</td><td>3.4</td><td>1.5</td><td>0.2</td><td>25.0</td></tr><tr><th>9</th><td>4.4</td><td>2.9</td><td>1.4</td><td>0.2</td><td>19.36</td></tr><tr><th>10</th><td>4.9</td><td>3.1</td><td>1.5</td><td>0.1</td><td>24.01</td></tr><tr><th>11</th><td>5.4</td><td>3.7</td><td>1.5</td><td>0.2</td><td>29.16</td></tr><tr><th>12</th><td>4.8</td><td>3.4</td><td>1.6</td><td>0.2</td><td>23.04</td></tr><tr><th>13</th><td>4.8</td><td>3.0</td><td>1.4</td><td>0.1</td><td>23.04</td></tr><tr><th>14</th><td>4.3</td><td>3.0</td><td>1.1</td><td>0.1</td><td>18.49</td></tr><tr><th>15</th><td>5.8</td><td>4.0</td><td>1.2</td><td>0.2</td><td>33.64</td></tr><tr><th>16</th><td>5.7</td><td>4.4</td><td>1.5</td><td>0.4</td><td>32.49</td></tr><tr><th>17</th><td>5.4</td><td>3.9</td><td>1.3</td><td>0.4</td><td>29.16</td></tr><tr><th>18</th><td>5.1</td><td>3.5</td><td>1.4</td><td>0.3</td><td>26.01</td></tr><tr><th>19</th><td>5.7</td><td>3.8</td><td>1.7</td><td>0.3</td><td>32.49</td></tr><tr><th>20</th><td>5.1</td><td>3.8</td><td>1.5</td><td>0.3</td><td>26.01</td></tr><tr><th>21</th><td>5.4</td><td>3.4</td><td>1.7</td><td>0.2</td><td>29.16</td></tr><tr><th>22</th><td>5.1</td><td>3.7</td><td>1.5</td><td>0.4</td><td>26.01</td></tr><tr><th>23</th><td>4.6</td><td>3.6</td><td>1.0</td><td>0.2</td><td>21.16</td></tr><tr><th>24</th><td>5.1</td><td>3.3</td><td>1.7</td><td>0.5</td><td>26.01</td></tr><tr><th>25</th><td>4.8</td><td>3.4</td><td>1.9</td><td>0.2</td><td>23.04</td></tr><tr><th>26</th><td>5.0</td><td>3.0</td><td>1.6</td><td>0.2</td><td>25.0</td></tr><tr><th>27</th><td>5.0</td><td>3.4</td><td>1.6</td><td>0.4</td><td>25.0</td></tr><tr><th>28</th><td>5.2</td><td>3.5</td><td>1.5</td><td>0.2</td><td>27.04</td></tr><tr><th>29</th><td>5.2</td><td>3.4</td><td>1.4</td><td>0.2</td><td>27.04</td></tr><tr><th>30</th><td>4.7</td><td>3.2</td><td>1.6</td><td>0.2</td><td>22.09</td></tr><tr><th>&vellip;</th><td>&vellip;</td><td>&vellip;</td><td>&vellip;</td><td>&vellip;</td><td>&vellip;</td></tr></tbody></table>"
      ],
      "text/latex": [
       "\\begin{tabular}{r|ccccc}\n",
       "\t& SepalLengthCm & SepalWidthCm & PetalLengthCm & PetalWidthCm & x1\\\\\n",
       "\t\\hline\n",
       "\t& Float64 & Float64 & Float64 & Float64 & Float64\\\\\n",
       "\t\\hline\n",
       "\t1 & 5.1 & 3.5 & 1.4 & 0.2 & 26.01 \\\\\n",
       "\t2 & 4.9 & 3.0 & 1.4 & 0.2 & 24.01 \\\\\n",
       "\t3 & 4.7 & 3.2 & 1.3 & 0.2 & 22.09 \\\\\n",
       "\t4 & 4.6 & 3.1 & 1.5 & 0.2 & 21.16 \\\\\n",
       "\t5 & 5.0 & 3.6 & 1.4 & 0.2 & 25.0 \\\\\n",
       "\t6 & 5.4 & 3.9 & 1.7 & 0.4 & 29.16 \\\\\n",
       "\t7 & 4.6 & 3.4 & 1.4 & 0.3 & 21.16 \\\\\n",
       "\t8 & 5.0 & 3.4 & 1.5 & 0.2 & 25.0 \\\\\n",
       "\t9 & 4.4 & 2.9 & 1.4 & 0.2 & 19.36 \\\\\n",
       "\t10 & 4.9 & 3.1 & 1.5 & 0.1 & 24.01 \\\\\n",
       "\t11 & 5.4 & 3.7 & 1.5 & 0.2 & 29.16 \\\\\n",
       "\t12 & 4.8 & 3.4 & 1.6 & 0.2 & 23.04 \\\\\n",
       "\t13 & 4.8 & 3.0 & 1.4 & 0.1 & 23.04 \\\\\n",
       "\t14 & 4.3 & 3.0 & 1.1 & 0.1 & 18.49 \\\\\n",
       "\t15 & 5.8 & 4.0 & 1.2 & 0.2 & 33.64 \\\\\n",
       "\t16 & 5.7 & 4.4 & 1.5 & 0.4 & 32.49 \\\\\n",
       "\t17 & 5.4 & 3.9 & 1.3 & 0.4 & 29.16 \\\\\n",
       "\t18 & 5.1 & 3.5 & 1.4 & 0.3 & 26.01 \\\\\n",
       "\t19 & 5.7 & 3.8 & 1.7 & 0.3 & 32.49 \\\\\n",
       "\t20 & 5.1 & 3.8 & 1.5 & 0.3 & 26.01 \\\\\n",
       "\t21 & 5.4 & 3.4 & 1.7 & 0.2 & 29.16 \\\\\n",
       "\t22 & 5.1 & 3.7 & 1.5 & 0.4 & 26.01 \\\\\n",
       "\t23 & 4.6 & 3.6 & 1.0 & 0.2 & 21.16 \\\\\n",
       "\t24 & 5.1 & 3.3 & 1.7 & 0.5 & 26.01 \\\\\n",
       "\t25 & 4.8 & 3.4 & 1.9 & 0.2 & 23.04 \\\\\n",
       "\t26 & 5.0 & 3.0 & 1.6 & 0.2 & 25.0 \\\\\n",
       "\t27 & 5.0 & 3.4 & 1.6 & 0.4 & 25.0 \\\\\n",
       "\t28 & 5.2 & 3.5 & 1.5 & 0.2 & 27.04 \\\\\n",
       "\t29 & 5.2 & 3.4 & 1.4 & 0.2 & 27.04 \\\\\n",
       "\t30 & 4.7 & 3.2 & 1.6 & 0.2 & 22.09 \\\\\n",
       "\t$\\dots$ & $\\dots$ & $\\dots$ & $\\dots$ & $\\dots$ & $\\dots$ \\\\\n",
       "\\end{tabular}\n"
      ],
      "text/plain": [
       "\u001b[1m150×5 DataFrame\u001b[0m\n",
       "\u001b[1m Row \u001b[0m│\u001b[1m SepalLengthCm \u001b[0m\u001b[1m SepalWidthCm \u001b[0m\u001b[1m PetalLengthCm \u001b[0m\u001b[1m PetalWidthCm \u001b[0m\u001b[1m x1      \u001b[0m\n",
       "\u001b[1m     \u001b[0m│\u001b[90m Float64       \u001b[0m\u001b[90m Float64      \u001b[0m\u001b[90m Float64       \u001b[0m\u001b[90m Float64      \u001b[0m\u001b[90m Float64 \u001b[0m\n",
       "─────┼───────────────────────────────────────────────────────────────────\n",
       "   1 │           5.1           3.5            1.4           0.2    26.01\n",
       "   2 │           4.9           3.0            1.4           0.2    24.01\n",
       "   3 │           4.7           3.2            1.3           0.2    22.09\n",
       "   4 │           4.6           3.1            1.5           0.2    21.16\n",
       "   5 │           5.0           3.6            1.4           0.2    25.0\n",
       "   6 │           5.4           3.9            1.7           0.4    29.16\n",
       "   7 │           4.6           3.4            1.4           0.3    21.16\n",
       "   8 │           5.0           3.4            1.5           0.2    25.0\n",
       "   9 │           4.4           2.9            1.4           0.2    19.36\n",
       "  10 │           4.9           3.1            1.5           0.1    24.01\n",
       "  11 │           5.4           3.7            1.5           0.2    29.16\n",
       "  ⋮  │       ⋮             ⋮              ⋮             ⋮           ⋮\n",
       " 141 │           6.7           3.1            5.6           2.4    44.89\n",
       " 142 │           6.9           3.1            5.1           2.3    47.61\n",
       " 143 │           5.8           2.7            5.1           1.9    33.64\n",
       " 144 │           6.8           3.2            5.9           2.3    46.24\n",
       " 145 │           6.7           3.3            5.7           2.5    44.89\n",
       " 146 │           6.7           3.0            5.2           2.3    44.89\n",
       " 147 │           6.3           2.5            5.0           1.9    39.69\n",
       " 148 │           6.5           3.0            5.2           2.0    42.25\n",
       " 149 │           6.2           3.4            5.4           2.3    38.44\n",
       " 150 │           5.9           3.0            5.1           1.8    34.81\n",
       "\u001b[36m                                                         129 rows omitted\u001b[0m"
      ]
     },
     "execution_count": 21,
     "metadata": {},
     "output_type": "execute_result"
    }
   ],
   "source": [
    "cont"
   ]
  },
  {
   "cell_type": "code",
   "execution_count": 31,
   "metadata": {},
   "outputs": [
    {
     "data": {
      "text/html": [
       "<table class=\"data-frame\"><thead><tr><th></th><th>SepalLengthCm</th><th>SepalWidthCm</th><th>PetalLengthCm</th><th>PetalWidthCm</th><th>SepalLengthCm_SepalWidthCm_etc_+</th></tr><tr><th></th><th>Float64</th><th>Float64</th><th>Float64</th><th>Float64</th><th>Float64</th></tr></thead><tbody><p>150 rows × 5 columns</p><tr><th>1</th><td>5.1</td><td>3.5</td><td>1.4</td><td>0.2</td><td>10.2</td></tr><tr><th>2</th><td>4.9</td><td>3.0</td><td>1.4</td><td>0.2</td><td>9.5</td></tr><tr><th>3</th><td>4.7</td><td>3.2</td><td>1.3</td><td>0.2</td><td>9.4</td></tr><tr><th>4</th><td>4.6</td><td>3.1</td><td>1.5</td><td>0.2</td><td>9.4</td></tr><tr><th>5</th><td>5.0</td><td>3.6</td><td>1.4</td><td>0.2</td><td>10.2</td></tr><tr><th>6</th><td>5.4</td><td>3.9</td><td>1.7</td><td>0.4</td><td>11.4</td></tr><tr><th>7</th><td>4.6</td><td>3.4</td><td>1.4</td><td>0.3</td><td>9.7</td></tr><tr><th>8</th><td>5.0</td><td>3.4</td><td>1.5</td><td>0.2</td><td>10.1</td></tr><tr><th>9</th><td>4.4</td><td>2.9</td><td>1.4</td><td>0.2</td><td>8.9</td></tr><tr><th>10</th><td>4.9</td><td>3.1</td><td>1.5</td><td>0.1</td><td>9.6</td></tr><tr><th>11</th><td>5.4</td><td>3.7</td><td>1.5</td><td>0.2</td><td>10.8</td></tr><tr><th>12</th><td>4.8</td><td>3.4</td><td>1.6</td><td>0.2</td><td>10.0</td></tr><tr><th>13</th><td>4.8</td><td>3.0</td><td>1.4</td><td>0.1</td><td>9.3</td></tr><tr><th>14</th><td>4.3</td><td>3.0</td><td>1.1</td><td>0.1</td><td>8.5</td></tr><tr><th>15</th><td>5.8</td><td>4.0</td><td>1.2</td><td>0.2</td><td>11.2</td></tr><tr><th>16</th><td>5.7</td><td>4.4</td><td>1.5</td><td>0.4</td><td>12.0</td></tr><tr><th>17</th><td>5.4</td><td>3.9</td><td>1.3</td><td>0.4</td><td>11.0</td></tr><tr><th>18</th><td>5.1</td><td>3.5</td><td>1.4</td><td>0.3</td><td>10.3</td></tr><tr><th>19</th><td>5.7</td><td>3.8</td><td>1.7</td><td>0.3</td><td>11.5</td></tr><tr><th>20</th><td>5.1</td><td>3.8</td><td>1.5</td><td>0.3</td><td>10.7</td></tr><tr><th>21</th><td>5.4</td><td>3.4</td><td>1.7</td><td>0.2</td><td>10.7</td></tr><tr><th>22</th><td>5.1</td><td>3.7</td><td>1.5</td><td>0.4</td><td>10.7</td></tr><tr><th>23</th><td>4.6</td><td>3.6</td><td>1.0</td><td>0.2</td><td>9.4</td></tr><tr><th>24</th><td>5.1</td><td>3.3</td><td>1.7</td><td>0.5</td><td>10.6</td></tr><tr><th>25</th><td>4.8</td><td>3.4</td><td>1.9</td><td>0.2</td><td>10.3</td></tr><tr><th>26</th><td>5.0</td><td>3.0</td><td>1.6</td><td>0.2</td><td>9.8</td></tr><tr><th>27</th><td>5.0</td><td>3.4</td><td>1.6</td><td>0.4</td><td>10.4</td></tr><tr><th>28</th><td>5.2</td><td>3.5</td><td>1.5</td><td>0.2</td><td>10.4</td></tr><tr><th>29</th><td>5.2</td><td>3.4</td><td>1.4</td><td>0.2</td><td>10.2</td></tr><tr><th>30</th><td>4.7</td><td>3.2</td><td>1.6</td><td>0.2</td><td>9.7</td></tr><tr><th>&vellip;</th><td>&vellip;</td><td>&vellip;</td><td>&vellip;</td><td>&vellip;</td><td>&vellip;</td></tr></tbody></table>"
      ],
      "text/latex": [
       "\\begin{tabular}{r|ccccc}\n",
       "\t& SepalLengthCm & SepalWidthCm & PetalLengthCm & PetalWidthCm & SepalLengthCm\\_SepalWidthCm\\_etc\\_+\\\\\n",
       "\t\\hline\n",
       "\t& Float64 & Float64 & Float64 & Float64 & Float64\\\\\n",
       "\t\\hline\n",
       "\t1 & 5.1 & 3.5 & 1.4 & 0.2 & 10.2 \\\\\n",
       "\t2 & 4.9 & 3.0 & 1.4 & 0.2 & 9.5 \\\\\n",
       "\t3 & 4.7 & 3.2 & 1.3 & 0.2 & 9.4 \\\\\n",
       "\t4 & 4.6 & 3.1 & 1.5 & 0.2 & 9.4 \\\\\n",
       "\t5 & 5.0 & 3.6 & 1.4 & 0.2 & 10.2 \\\\\n",
       "\t6 & 5.4 & 3.9 & 1.7 & 0.4 & 11.4 \\\\\n",
       "\t7 & 4.6 & 3.4 & 1.4 & 0.3 & 9.7 \\\\\n",
       "\t8 & 5.0 & 3.4 & 1.5 & 0.2 & 10.1 \\\\\n",
       "\t9 & 4.4 & 2.9 & 1.4 & 0.2 & 8.9 \\\\\n",
       "\t10 & 4.9 & 3.1 & 1.5 & 0.1 & 9.6 \\\\\n",
       "\t11 & 5.4 & 3.7 & 1.5 & 0.2 & 10.8 \\\\\n",
       "\t12 & 4.8 & 3.4 & 1.6 & 0.2 & 10.0 \\\\\n",
       "\t13 & 4.8 & 3.0 & 1.4 & 0.1 & 9.3 \\\\\n",
       "\t14 & 4.3 & 3.0 & 1.1 & 0.1 & 8.5 \\\\\n",
       "\t15 & 5.8 & 4.0 & 1.2 & 0.2 & 11.2 \\\\\n",
       "\t16 & 5.7 & 4.4 & 1.5 & 0.4 & 12.0 \\\\\n",
       "\t17 & 5.4 & 3.9 & 1.3 & 0.4 & 11.0 \\\\\n",
       "\t18 & 5.1 & 3.5 & 1.4 & 0.3 & 10.3 \\\\\n",
       "\t19 & 5.7 & 3.8 & 1.7 & 0.3 & 11.5 \\\\\n",
       "\t20 & 5.1 & 3.8 & 1.5 & 0.3 & 10.7 \\\\\n",
       "\t21 & 5.4 & 3.4 & 1.7 & 0.2 & 10.7 \\\\\n",
       "\t22 & 5.1 & 3.7 & 1.5 & 0.4 & 10.7 \\\\\n",
       "\t23 & 4.6 & 3.6 & 1.0 & 0.2 & 9.4 \\\\\n",
       "\t24 & 5.1 & 3.3 & 1.7 & 0.5 & 10.6 \\\\\n",
       "\t25 & 4.8 & 3.4 & 1.9 & 0.2 & 10.3 \\\\\n",
       "\t26 & 5.0 & 3.0 & 1.6 & 0.2 & 9.8 \\\\\n",
       "\t27 & 5.0 & 3.4 & 1.6 & 0.4 & 10.4 \\\\\n",
       "\t28 & 5.2 & 3.5 & 1.5 & 0.2 & 10.4 \\\\\n",
       "\t29 & 5.2 & 3.4 & 1.4 & 0.2 & 10.2 \\\\\n",
       "\t30 & 4.7 & 3.2 & 1.6 & 0.2 & 9.7 \\\\\n",
       "\t$\\dots$ & $\\dots$ & $\\dots$ & $\\dots$ & $\\dots$ & $\\dots$ \\\\\n",
       "\\end{tabular}\n"
      ],
      "text/plain": [
       "\u001b[1m150×5 DataFrame\u001b[0m\n",
       "\u001b[1m Row \u001b[0m│\u001b[1m SepalLengthCm \u001b[0m\u001b[1m SepalWidthCm \u001b[0m\u001b[1m PetalLengthCm \u001b[0m\u001b[1m PetalWidthCm \u001b[0m\u001b[1m SepalLengthCm\u001b[0m ⋯\n",
       "\u001b[1m     \u001b[0m│\u001b[90m Float64       \u001b[0m\u001b[90m Float64      \u001b[0m\u001b[90m Float64       \u001b[0m\u001b[90m Float64      \u001b[0m\u001b[90m Float64      \u001b[0m ⋯\n",
       "─────┼──────────────────────────────────────────────────────────────────────────\n",
       "   1 │           5.1           3.5            1.4           0.2                ⋯\n",
       "   2 │           4.9           3.0            1.4           0.2\n",
       "   3 │           4.7           3.2            1.3           0.2\n",
       "   4 │           4.6           3.1            1.5           0.2\n",
       "   5 │           5.0           3.6            1.4           0.2                ⋯\n",
       "   6 │           5.4           3.9            1.7           0.4\n",
       "   7 │           4.6           3.4            1.4           0.3\n",
       "   8 │           5.0           3.4            1.5           0.2\n",
       "   9 │           4.4           2.9            1.4           0.2                ⋯\n",
       "  10 │           4.9           3.1            1.5           0.1\n",
       "  11 │           5.4           3.7            1.5           0.2\n",
       "  ⋮  │       ⋮             ⋮              ⋮             ⋮                      ⋱\n",
       " 141 │           6.7           3.1            5.6           2.4\n",
       " 142 │           6.9           3.1            5.1           2.3                ⋯\n",
       " 143 │           5.8           2.7            5.1           1.9\n",
       " 144 │           6.8           3.2            5.9           2.3\n",
       " 145 │           6.7           3.3            5.7           2.5\n",
       " 146 │           6.7           3.0            5.2           2.3                ⋯\n",
       " 147 │           6.3           2.5            5.0           1.9\n",
       " 148 │           6.5           3.0            5.2           2.0\n",
       " 149 │           6.2           3.4            5.4           2.3\n",
       " 150 │           5.9           3.0            5.1           1.8                ⋯\n",
       "\u001b[36m                                                   1 column and 129 rows omitted\u001b[0m"
      ]
     },
     "execution_count": 31,
     "metadata": {},
     "output_type": "execute_result"
    }
   ],
   "source": [
    "soma = df |> x ->\n",
    "    select(x, r\"Cm\") |> x ->\n",
    "    transform(x, All()=>+)"
   ]
  },
  {
   "cell_type": "code",
   "execution_count": 35,
   "metadata": {},
   "outputs": [
    {
     "data": {
      "text/plain": [
       "5.843333333333334"
      ]
     },
     "execution_count": 35,
     "metadata": {},
     "output_type": "execute_result"
    }
   ],
   "source": [
    "mean(df.SepalLengthCm)"
   ]
  },
  {
   "cell_type": "code",
   "execution_count": 36,
   "metadata": {},
   "outputs": [
    {
     "data": {
      "text/plain": [
       "0.14171125977944032"
      ]
     },
     "execution_count": 36,
     "metadata": {},
     "output_type": "execute_result"
    }
   ],
   "source": [
    "variation(df.SepalLengthCm)"
   ]
  },
  {
   "cell_type": "code",
   "execution_count": 55,
   "metadata": {},
   "outputs": [
    {
     "data": {
      "text/plain": [
       "-0.15945651848582867"
      ]
     },
     "execution_count": 55,
     "metadata": {},
     "output_type": "execute_result"
    }
   ],
   "source": [
    "corspearman(df.SepalLengthCm, df.SepalWidthCm)"
   ]
  },
  {
   "cell_type": "code",
   "execution_count": 47,
   "metadata": {},
   "outputs": [],
   "source": [
    "soma.SepalLengthCm = soma.SepalLengthCm |> x->\n",
    "    replace!(x, 5.1 => 3);\n",
    "# funciona com categóricas também"
   ]
  },
  {
   "cell_type": "code",
   "execution_count": 48,
   "metadata": {},
   "outputs": [
    {
     "data": {
      "text/html": [
       "<table class=\"data-frame\"><thead><tr><th></th><th>SepalLengthCm</th><th>SepalWidthCm</th><th>PetalLengthCm</th><th>PetalWidthCm</th><th>SepalLengthCm_SepalWidthCm_etc_+</th></tr><tr><th></th><th>Float64</th><th>Float64</th><th>Float64</th><th>Float64</th><th>Float64</th></tr></thead><tbody><p>150 rows × 5 columns</p><tr><th>1</th><td>3.0</td><td>3.5</td><td>1.4</td><td>0.2</td><td>10.2</td></tr><tr><th>2</th><td>4.9</td><td>3.0</td><td>1.4</td><td>0.2</td><td>9.5</td></tr><tr><th>3</th><td>4.7</td><td>3.2</td><td>1.3</td><td>0.2</td><td>9.4</td></tr><tr><th>4</th><td>4.6</td><td>3.1</td><td>1.5</td><td>0.2</td><td>9.4</td></tr><tr><th>5</th><td>5.0</td><td>3.6</td><td>1.4</td><td>0.2</td><td>10.2</td></tr><tr><th>6</th><td>5.4</td><td>3.9</td><td>1.7</td><td>0.4</td><td>11.4</td></tr><tr><th>7</th><td>4.6</td><td>3.4</td><td>1.4</td><td>0.3</td><td>9.7</td></tr><tr><th>8</th><td>5.0</td><td>3.4</td><td>1.5</td><td>0.2</td><td>10.1</td></tr><tr><th>9</th><td>4.4</td><td>2.9</td><td>1.4</td><td>0.2</td><td>8.9</td></tr><tr><th>10</th><td>4.9</td><td>3.1</td><td>1.5</td><td>0.1</td><td>9.6</td></tr><tr><th>11</th><td>5.4</td><td>3.7</td><td>1.5</td><td>0.2</td><td>10.8</td></tr><tr><th>12</th><td>4.8</td><td>3.4</td><td>1.6</td><td>0.2</td><td>10.0</td></tr><tr><th>13</th><td>4.8</td><td>3.0</td><td>1.4</td><td>0.1</td><td>9.3</td></tr><tr><th>14</th><td>4.3</td><td>3.0</td><td>1.1</td><td>0.1</td><td>8.5</td></tr><tr><th>15</th><td>5.8</td><td>4.0</td><td>1.2</td><td>0.2</td><td>11.2</td></tr><tr><th>16</th><td>5.7</td><td>4.4</td><td>1.5</td><td>0.4</td><td>12.0</td></tr><tr><th>17</th><td>5.4</td><td>3.9</td><td>1.3</td><td>0.4</td><td>11.0</td></tr><tr><th>18</th><td>3.0</td><td>3.5</td><td>1.4</td><td>0.3</td><td>10.3</td></tr><tr><th>19</th><td>5.7</td><td>3.8</td><td>1.7</td><td>0.3</td><td>11.5</td></tr><tr><th>20</th><td>3.0</td><td>3.8</td><td>1.5</td><td>0.3</td><td>10.7</td></tr><tr><th>21</th><td>5.4</td><td>3.4</td><td>1.7</td><td>0.2</td><td>10.7</td></tr><tr><th>22</th><td>3.0</td><td>3.7</td><td>1.5</td><td>0.4</td><td>10.7</td></tr><tr><th>23</th><td>4.6</td><td>3.6</td><td>1.0</td><td>0.2</td><td>9.4</td></tr><tr><th>24</th><td>3.0</td><td>3.3</td><td>1.7</td><td>0.5</td><td>10.6</td></tr><tr><th>25</th><td>4.8</td><td>3.4</td><td>1.9</td><td>0.2</td><td>10.3</td></tr><tr><th>26</th><td>5.0</td><td>3.0</td><td>1.6</td><td>0.2</td><td>9.8</td></tr><tr><th>27</th><td>5.0</td><td>3.4</td><td>1.6</td><td>0.4</td><td>10.4</td></tr><tr><th>28</th><td>5.2</td><td>3.5</td><td>1.5</td><td>0.2</td><td>10.4</td></tr><tr><th>29</th><td>5.2</td><td>3.4</td><td>1.4</td><td>0.2</td><td>10.2</td></tr><tr><th>30</th><td>4.7</td><td>3.2</td><td>1.6</td><td>0.2</td><td>9.7</td></tr><tr><th>&vellip;</th><td>&vellip;</td><td>&vellip;</td><td>&vellip;</td><td>&vellip;</td><td>&vellip;</td></tr></tbody></table>"
      ],
      "text/latex": [
       "\\begin{tabular}{r|ccccc}\n",
       "\t& SepalLengthCm & SepalWidthCm & PetalLengthCm & PetalWidthCm & SepalLengthCm\\_SepalWidthCm\\_etc\\_+\\\\\n",
       "\t\\hline\n",
       "\t& Float64 & Float64 & Float64 & Float64 & Float64\\\\\n",
       "\t\\hline\n",
       "\t1 & 3.0 & 3.5 & 1.4 & 0.2 & 10.2 \\\\\n",
       "\t2 & 4.9 & 3.0 & 1.4 & 0.2 & 9.5 \\\\\n",
       "\t3 & 4.7 & 3.2 & 1.3 & 0.2 & 9.4 \\\\\n",
       "\t4 & 4.6 & 3.1 & 1.5 & 0.2 & 9.4 \\\\\n",
       "\t5 & 5.0 & 3.6 & 1.4 & 0.2 & 10.2 \\\\\n",
       "\t6 & 5.4 & 3.9 & 1.7 & 0.4 & 11.4 \\\\\n",
       "\t7 & 4.6 & 3.4 & 1.4 & 0.3 & 9.7 \\\\\n",
       "\t8 & 5.0 & 3.4 & 1.5 & 0.2 & 10.1 \\\\\n",
       "\t9 & 4.4 & 2.9 & 1.4 & 0.2 & 8.9 \\\\\n",
       "\t10 & 4.9 & 3.1 & 1.5 & 0.1 & 9.6 \\\\\n",
       "\t11 & 5.4 & 3.7 & 1.5 & 0.2 & 10.8 \\\\\n",
       "\t12 & 4.8 & 3.4 & 1.6 & 0.2 & 10.0 \\\\\n",
       "\t13 & 4.8 & 3.0 & 1.4 & 0.1 & 9.3 \\\\\n",
       "\t14 & 4.3 & 3.0 & 1.1 & 0.1 & 8.5 \\\\\n",
       "\t15 & 5.8 & 4.0 & 1.2 & 0.2 & 11.2 \\\\\n",
       "\t16 & 5.7 & 4.4 & 1.5 & 0.4 & 12.0 \\\\\n",
       "\t17 & 5.4 & 3.9 & 1.3 & 0.4 & 11.0 \\\\\n",
       "\t18 & 3.0 & 3.5 & 1.4 & 0.3 & 10.3 \\\\\n",
       "\t19 & 5.7 & 3.8 & 1.7 & 0.3 & 11.5 \\\\\n",
       "\t20 & 3.0 & 3.8 & 1.5 & 0.3 & 10.7 \\\\\n",
       "\t21 & 5.4 & 3.4 & 1.7 & 0.2 & 10.7 \\\\\n",
       "\t22 & 3.0 & 3.7 & 1.5 & 0.4 & 10.7 \\\\\n",
       "\t23 & 4.6 & 3.6 & 1.0 & 0.2 & 9.4 \\\\\n",
       "\t24 & 3.0 & 3.3 & 1.7 & 0.5 & 10.6 \\\\\n",
       "\t25 & 4.8 & 3.4 & 1.9 & 0.2 & 10.3 \\\\\n",
       "\t26 & 5.0 & 3.0 & 1.6 & 0.2 & 9.8 \\\\\n",
       "\t27 & 5.0 & 3.4 & 1.6 & 0.4 & 10.4 \\\\\n",
       "\t28 & 5.2 & 3.5 & 1.5 & 0.2 & 10.4 \\\\\n",
       "\t29 & 5.2 & 3.4 & 1.4 & 0.2 & 10.2 \\\\\n",
       "\t30 & 4.7 & 3.2 & 1.6 & 0.2 & 9.7 \\\\\n",
       "\t$\\dots$ & $\\dots$ & $\\dots$ & $\\dots$ & $\\dots$ & $\\dots$ \\\\\n",
       "\\end{tabular}\n"
      ],
      "text/plain": [
       "\u001b[1m150×5 DataFrame\u001b[0m\n",
       "\u001b[1m Row \u001b[0m│\u001b[1m SepalLengthCm \u001b[0m\u001b[1m SepalWidthCm \u001b[0m\u001b[1m PetalLengthCm \u001b[0m\u001b[1m PetalWidthCm \u001b[0m\u001b[1m SepalLengthCm\u001b[0m ⋯\n",
       "\u001b[1m     \u001b[0m│\u001b[90m Float64       \u001b[0m\u001b[90m Float64      \u001b[0m\u001b[90m Float64       \u001b[0m\u001b[90m Float64      \u001b[0m\u001b[90m Float64      \u001b[0m ⋯\n",
       "─────┼──────────────────────────────────────────────────────────────────────────\n",
       "   1 │           3.0           3.5            1.4           0.2                ⋯\n",
       "   2 │           4.9           3.0            1.4           0.2\n",
       "   3 │           4.7           3.2            1.3           0.2\n",
       "   4 │           4.6           3.1            1.5           0.2\n",
       "   5 │           5.0           3.6            1.4           0.2                ⋯\n",
       "   6 │           5.4           3.9            1.7           0.4\n",
       "   7 │           4.6           3.4            1.4           0.3\n",
       "   8 │           5.0           3.4            1.5           0.2\n",
       "   9 │           4.4           2.9            1.4           0.2                ⋯\n",
       "  10 │           4.9           3.1            1.5           0.1\n",
       "  11 │           5.4           3.7            1.5           0.2\n",
       "  ⋮  │       ⋮             ⋮              ⋮             ⋮                      ⋱\n",
       " 141 │           6.7           3.1            5.6           2.4\n",
       " 142 │           6.9           3.1            5.1           2.3                ⋯\n",
       " 143 │           5.8           2.7            5.1           1.9\n",
       " 144 │           6.8           3.2            5.9           2.3\n",
       " 145 │           6.7           3.3            5.7           2.5\n",
       " 146 │           6.7           3.0            5.2           2.3                ⋯\n",
       " 147 │           6.3           2.5            5.0           1.9\n",
       " 148 │           6.5           3.0            5.2           2.0\n",
       " 149 │           6.2           3.4            5.4           2.3\n",
       " 150 │           5.9           3.0            5.1           1.8                ⋯\n",
       "\u001b[36m                                                   1 column and 129 rows omitted\u001b[0m"
      ]
     },
     "execution_count": 48,
     "metadata": {},
     "output_type": "execute_result"
    }
   ],
   "source": [
    "soma"
   ]
  },
  {
   "cell_type": "code",
   "execution_count": 50,
   "metadata": {
    "scrolled": true
   },
   "outputs": [
    {
     "data": {
      "text/plain": [
       "Missing"
      ]
     },
     "execution_count": 50,
     "metadata": {},
     "output_type": "execute_result"
    }
   ],
   "source": [
    "missing |> typeof"
   ]
  },
  {
   "cell_type": "code",
   "execution_count": 53,
   "metadata": {},
   "outputs": [],
   "source": [
    "dropmissing(df); "
   ]
  },
  {
   "cell_type": "code",
   "execution_count": 52,
   "metadata": {},
   "outputs": [],
   "source": [
    "unique(df); "
   ]
  },
  {
   "cell_type": "code",
   "execution_count": 56,
   "metadata": {},
   "outputs": [
    {
     "data": {
      "text/plain": [
       "Dict{String,Int64} with 3 entries:\n",
       "  \"Iris-virginica\"  => 50\n",
       "  \"Iris-setosa\"     => 50\n",
       "  \"Iris-versicolor\" => 50"
      ]
     },
     "execution_count": 56,
     "metadata": {},
     "output_type": "execute_result"
    }
   ],
   "source": [
    "df[:, :Species] |>\n",
    "    countmap"
   ]
  },
  {
   "cell_type": "code",
   "execution_count": null,
   "metadata": {},
   "outputs": [],
   "source": [
    "# Gadfly -> pacote de visualização"
   ]
  },
  {
   "cell_type": "code",
   "execution_count": null,
   "metadata": {},
   "outputs": [],
   "source": [
    "# bem semelhante ao R, define-se um plot por níveis:\n",
    "# data\n",
    "# aes\n",
    "# ... etc"
   ]
  },
  {
   "cell_type": "code",
   "execution_count": 64,
   "metadata": {},
   "outputs": [
    {
     "ename": "UndefVarError",
     "evalue": "UndefVarError: scatter not defined",
     "output_type": "error",
     "traceback": [
      "UndefVarError: scatter not defined",
      "",
      "Stacktrace:",
      " [1] getproperty(::Module, ::Symbol) at ./Base.jl:26",
      " [2] top-level scope at In[64]:1"
     ]
    }
   ],
   "source": [
    "Gadfly.plot(df, x=:SepalLengthCm, y=:PetalLengthCm,\n",
    "    Geom.poin())"
   ]
  },
  {
   "cell_type": "code",
   "execution_count": null,
   "metadata": {},
   "outputs": [],
   "source": []
  }
 ],
 "metadata": {
  "kernelspec": {
   "display_name": "Julia 1.4.1",
   "language": "julia",
   "name": "julia-1.4"
  },
  "language_info": {
   "file_extension": ".jl",
   "mimetype": "application/julia",
   "name": "julia",
   "version": "1.4.1"
  }
 },
 "nbformat": 4,
 "nbformat_minor": 4
}
